{
 "cells": [
  {
   "cell_type": "markdown",
   "metadata": {
    "colab_type": "text",
    "id": "iQjHqsmTAVLU"
   },
   "source": [
    "## Exercise 3\n",
    "In the videos you looked at how you would improve Fashion MNIST using Convolutions. For your exercise see if you can improve MNIST to 99.8% accuracy or more using only a single convolutional layer and a single MaxPooling 2D. You should stop training once the accuracy goes above this amount. It should happen in less than 20 epochs, so it's ok to hard code the number of epochs for training, but your training must end once it hits the above metric. If it doesn't, then you'll need to redesign your layers.\n",
    "\n",
    "I've started the code for you -- you need to finish it!\n",
    "\n",
    "When 99.8% accuracy has been hit, you should print out the string \"Reached 99.8% accuracy so cancelling training!\"\n"
   ]
  },
  {
   "cell_type": "code",
   "execution_count": 7,
   "metadata": {},
   "outputs": [],
   "source": [
    "import tensorflow as tf\n",
    "from os import path, getcwd, chdir\n",
    "\n",
    "# DO NOT CHANGE THE LINE BELOW. If you are developing in a local\n",
    "# environment, then grab mnist.npz from the Coursera Jupyter Notebook\n",
    "# and place it inside a local folder and edit the path to that location\n",
    "path = f\"{getcwd()}/../tmp2/mnist.npz\""
   ]
  },
  {
   "cell_type": "code",
   "execution_count": 8,
   "metadata": {},
   "outputs": [],
   "source": [
    "config = tf.ConfigProto()\n",
    "config.gpu_options.allow_growth = True\n",
    "sess = tf.Session(config=config)"
   ]
  },
  {
   "cell_type": "code",
   "execution_count": 15,
   "metadata": {},
   "outputs": [],
   "source": [
    "# GRADED FUNCTION: train_mnist_conv\n",
    "def train_mnist_conv():\n",
    "    # Please write your code only where you are indicated.\n",
    "    # please do not remove model fitting inline comments.\n",
    "\n",
    "    class myCallback(tf.keras.callbacks.Callback):\n",
    "        def on_epoc_end(self, epoch, logs={}):\n",
    "            if(logs.get('acc') > 0.998):\n",
    "                print(\"Reached accuracy 99.8% accuracyc so cancelling training!\")\n",
    "                self.model.stop_training = True\n",
    "    \n",
    "    callbacks = myCallback()\n",
    "\n",
    "    mnist = tf.keras.datasets.mnist\n",
    "    (training_images, training_labels), (test_images, test_labels) = mnist.load_data(path=path)\n",
    "    \n",
    "    def preprocess_images(image_set):\n",
    "        image_set = image_set.reshape(-1, 28, 28, 1)\n",
    "        image_set = image_set / 255.0\n",
    "        return image_set\n",
    "    \n",
    "    training_images = preprocess_images(training_images)\n",
    "    test_images = preprocess_images(test_images)\n",
    "    \n",
    "    model = tf.keras.models.Sequential([\n",
    "            tf.keras.layers.Conv2D(32, (3,3), activation = 'relu', input_shape = (28, 28, 1)),\n",
    "            tf.keras.layers.MaxPooling2D(2,2),\n",
    "            tf.keras.layers.Flatten(),\n",
    "            tf.keras.layers.Dense(128, activation = 'relu'),\n",
    "            tf.keras.layers.Dense(10, activation = 'softmax')     \n",
    "    ])\n",
    "\n",
    "    model.compile(optimizer='adam', loss='sparse_categorical_crossentropy', metrics=['accuracy'])\n",
    "    # model fitting\n",
    "    history = model.fit(\n",
    "        training_images, \n",
    "        training_labels, \n",
    "        epochs = 15, \n",
    "        callbacks = [callbacks]\n",
    "    )\n",
    "    # model fitting\n",
    "    return history.epoch, history.history['acc'][-1]\n",
    "\n"
   ]
  },
  {
   "cell_type": "code",
   "execution_count": 16,
   "metadata": {},
   "outputs": [
    {
     "name": "stdout",
     "output_type": "stream",
     "text": [
      "Epoch 1/15\n",
      "60000/60000 [==============================] - 22s 361us/sample - loss: 0.1441 - acc: 0.9569\n",
      "Epoch 2/15\n",
      "60000/60000 [==============================] - 21s 345us/sample - loss: 0.0497 - acc: 0.9846 - loss: 0.049\n",
      "Epoch 3/15\n",
      "60000/60000 [==============================] - 21s 347us/sample - loss: 0.0314 - acc: 0.9902\n",
      "Epoch 4/15\n",
      "60000/60000 [==============================] - 21s 347us/sample - loss: 0.0202 - acc: 0.9935\n",
      "Epoch 5/15\n",
      "60000/60000 [==============================] - 21s 343us/sample - loss: 0.0133 - acc: 0.9958\n",
      "Epoch 6/15\n",
      "60000/60000 [==============================] - 21s 342us/sample - loss: 0.0102 - acc: 0.9966 - loss: 0.0101 - \n",
      "Epoch 7/15\n",
      "60000/60000 [==============================] - 20s 336us/sample - loss: 0.0068 - acc: 0.9978\n",
      "Epoch 8/15\n",
      "60000/60000 [==============================] - 21s 352us/sample - loss: 0.0055 - acc: 0.9982\n",
      "Epoch 9/15\n",
      "60000/60000 [==============================] - 19s 318us/sample - loss: 0.0049 - acc: 0.9984 - loss: 0.0048 - a - ETA: 2s - loss: 0. - ETA: 0s - loss: 0.0049 - ac\n",
      "Epoch 10/15\n",
      "60000/60000 [==============================] - 19s 318us/sample - loss: 0.0043 - acc: 0.9986\n",
      "Epoch 11/15\n",
      "60000/60000 [==============================] - 23s 375us/sample - loss: 0.0034 - acc: 0.9988 - loss: \n",
      "Epoch 12/15\n",
      "60000/60000 [==============================] - 22s 363us/sample - loss: 0.0037 - acc: 0.9987 - loss: 0.0037 - \n",
      "Epoch 13/15\n",
      "60000/60000 [==============================] - 22s 370us/sample - loss: 0.0036 - acc: 0.9988\n",
      "Epoch 14/15\n",
      "60000/60000 [==============================] - 22s 360us/sample - loss: 0.0036 - acc: 0.9989\n",
      "Epoch 15/15\n",
      "60000/60000 [==============================] - 22s 365us/sample - loss: 0.0024 - acc: 0.9991\n"
     ]
    }
   ],
   "source": [
    "_, _ = train_mnist_conv()"
   ]
  },
  {
   "cell_type": "code",
   "execution_count": null,
   "metadata": {},
   "outputs": [],
   "source": [
    "# Now click the 'Submit Assignment' button above.\n",
    "# Once that is complete, please run the following two cells to save your work and close the notebook"
   ]
  }
 ],
 "metadata": {
  "coursera": {
   "course_slug": "introduction-tensorflow",
   "graded_item_id": "ml06H",
   "launcher_item_id": "hQF8A"
  },
  "kernelspec": {
   "display_name": "Python 3",
   "language": "python",
   "name": "python3"
  },
  "language_info": {
   "codemirror_mode": {
    "name": "ipython",
    "version": 3
   },
   "file_extension": ".py",
   "mimetype": "text/x-python",
   "name": "python",
   "nbconvert_exporter": "python",
   "pygments_lexer": "ipython3",
   "version": "3.6.8"
  }
 },
 "nbformat": 4,
 "nbformat_minor": 1
}
